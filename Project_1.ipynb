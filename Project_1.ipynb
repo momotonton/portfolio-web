{
  "nbformat": 4,
  "nbformat_minor": 0,
  "metadata": {
    "colab": {
      "name": "Project 1.ipynb",
      "provenance": [],
      "collapsed_sections": [],
      "authorship_tag": "ABX9TyP90hrUVkLT+mEWNifq0HNL",
      "include_colab_link": true
    },
    "kernelspec": {
      "name": "python3",
      "display_name": "Python 3"
    },
    "language_info": {
      "name": "python"
    }
  },
  "cells": [
    {
      "cell_type": "markdown",
      "metadata": {
        "id": "view-in-github",
        "colab_type": "text"
      },
      "source": [
        "<a href=\"https://colab.research.google.com/github/momotonton/portfolio-web/blob/main/Project_1.ipynb\" target=\"_parent\"><img src=\"https://colab.research.google.com/assets/colab-badge.svg\" alt=\"Open In Colab\"/></a>"
      ]
    },
    {
      "cell_type": "code",
      "metadata": {
        "id": "njh2VxuzrPd6"
      },
      "source": [
        "import pandas as pd\n",
        "import numpy as np\n",
        "vgames2 = pd.read_csv('https://ds-lecture-data.s3.ap-northeast-2.amazonaws.com/datasets/vgames2.csv')\n",
        "df = vgames2.iloc[:,1:] # index remove\n",
        "df"
      ],
      "execution_count": null,
      "outputs": []
    },
    {
      "cell_type": "code",
      "metadata": {
        "id": "ywm_oEr0Rn8o"
      },
      "source": [
        "df_a.sort_values(by='NA_Sales',ascending=False).head(100)"
      ],
      "execution_count": null,
      "outputs": []
    },
    {
      "cell_type": "code",
      "metadata": {
        "id": "0tUa0qfUDIzw"
      },
      "source": [
        "df_a.sort_values(by='JP_Sales',ascending=False).head(50)"
      ],
      "execution_count": null,
      "outputs": []
    },
    {
      "cell_type": "code",
      "metadata": {
        "id": "e6qs61HxDUew"
      },
      "source": [
        "df_a.sort_values(by='EU_Sales',ascending=False).head(50)"
      ],
      "execution_count": null,
      "outputs": []
    },
    {
      "cell_type": "code",
      "metadata": {
        "id": "9kIBcxOtVBfr"
      },
      "source": [
        "df_DS = df['Platform'] == 'DS'\n",
        "df_DS = df[df_DS]\n",
        "df_DS['Year'] = df_DS['Year'].fillna(df_DS['Year'].mean())\n",
        "df_DS['Year'] = df_DS['Year'].astype(int)\n",
        "DS_freq = df_DS['Genre'].value_counts(dropna=True).idxmax()\n",
        "df_DS['Genre'].fillna(DS_freq, inplace = True)\n",
        "\n",
        "df_Wii = df['Platform'] == 'Wii'\n",
        "df_Wii = df[df_Wii]\n",
        "df_Wii['Year'] = df_Wii['Year'].fillna(df_Wii['Year'].mean())\n",
        "df_Wii['Year'] = df_Wii['Year'].astype(int)\n",
        "Wii_freq = df_Wii['Genre'].value_counts(dropna=True).idxmax()\n",
        "df_Wii['Genre'].fillna(Wii_freq, inplace = True)\n",
        "\n",
        "df_PSP = df['Platform'] == 'PSP'\n",
        "df_PSP = df[df_PSP]\n",
        "df_PSP['Year'] = df_PSP['Year'].fillna(df_PSP['Year'].mean())\n",
        "df_PSP['Year'] = df_PSP['Year'].astype(int)\n",
        "PSP_freq = df_PSP['Genre'].value_counts(dropna=True).idxmax()\n",
        "df_PSP['Genre'].fillna(PSP_freq, inplace = True)\n",
        "\n",
        "df_PS2 = df['Platform'] == 'PS2'\n",
        "df_PS2 = df[df_PS2]\n",
        "df_PS2['Year'] = df_PS2['Year'].fillna(df_PS2['Year'].mean())\n",
        "df_PS2['Year'] = df_PS2['Year'].astype(int)\n",
        "PS2_freq = df_PS2['Genre'].value_counts(dropna=True).idxmax()\n",
        "df_PS2['Genre'].fillna(PS2_freq, inplace = True)\n",
        "\n",
        "df_PS3 = df['Platform'] == 'PS3'\n",
        "df_PS3 = df[df_PS3]\n",
        "df_PS3['Year'] = df_PS3['Year'].fillna(df_PS3['Year'].mean())\n",
        "df_PS3['Year'] = df_PS3['Year'].astype(int)\n",
        "PS3_freq = df_PS3['Genre'].value_counts(dropna=True).idxmax()\n",
        "df_PS3['Genre'].fillna(PS3_freq, inplace = True)\n",
        "\n",
        "\n",
        "\n",
        "df_PC = df['Platform'] == 'PC'\n",
        "df_PC = df[df_PC]\n",
        "df_PC['Year'] = df_PC['Year'].fillna(df_PC['Year'].mean())\n",
        "df_PC['Year'] = df_PC['Year'].astype(int)\n",
        "PC_freq = df_PC['Genre'].value_counts(dropna=True).idxmax()\n",
        "df_PC['Genre'].fillna(PC_freq, inplace = True)\n",
        "\n",
        "\n",
        "df_PS = df['Platform'] == 'PS'\n",
        "df_PS = df[df_PS]\n",
        "df_PS['Year'] = df_PS['Year'].fillna(df_PS['Year'].mean())\n",
        "df_PS['Year'] = df_PS['Year'].astype(int)\n",
        "PS_freq = df_PS['Genre'].value_counts(dropna=True).idxmax()\n",
        "df_PS['Genre'].fillna(PS_freq, inplace = True)\n",
        "\n",
        "\n",
        "df_X360 = df['Platform'] == 'X360'\n",
        "df_X360 = df[df_X360]\n",
        "df_X360['Year'] = df_X360['Year'].fillna(df_X360['Year'].mean())\n",
        "df_X360['Year'] = df_X360['Year'].astype(int)\n",
        "X360_freq = df_X360['Genre'].value_counts(dropna=True).idxmax()\n",
        "df_X360['Genre'].fillna(X360_freq, inplace = True)\n",
        "\n",
        "df_GBA = df['Platform'] == 'GBA'\n",
        "df_GBA = df[df_GBA]\n",
        "df_GBA['Year'] = df_GBA['Year'].fillna(df_GBA['Year'].mean())\n",
        "df_GBA['Year'] = df_GBA['Year'].astype(int)\n",
        "GBA_freq = df_GBA['Genre'].value_counts(dropna=True).idxmax()\n",
        "df_GBA['Genre'].fillna(GBA_freq, inplace = True)\n",
        "\n",
        "\n",
        "df_PS4 = df['Platform'] == 'PS4'\n",
        "df_PS4 = df[df_PS4]\n",
        "df_PS4['Year'] = df_PS4['Year'].fillna(df_PS4['Year'].mean())\n",
        "df_PS4['Year'] = df_PS4['Year'].astype(int)\n",
        "PS4_freq = df_PS4['Genre'].value_counts(dropna=True).idxmax()\n",
        "df_PS4['Genre'].fillna(PS4_freq, inplace = True)\n",
        "\n",
        "\n",
        "df_XB = df['Platform'] == 'XB'\n",
        "df_XB = df[df_XB]\n",
        "df_XB['Year'] = df_XB['Year'].fillna(df_XB['Year'].mean())\n",
        "df_XB['Year'] = df_XB['Year'].astype(int)\n",
        "XB_freq = df_XB['Genre'].value_counts(dropna=True).idxmax()\n",
        "df_XB['Genre'].fillna(XB_freq, inplace = True)\n",
        "\n",
        "\n",
        "df_GC = df['Platform'] == 'GC'\n",
        "df_GC = df[df_GC]\n",
        "df_GC['Year'] = df_GC['Year'].fillna(df_GC['Year'].mean())\n",
        "df_GC['Year'] = df_GC['Year'].astype(int)\n",
        "GC_freq = df_GC['Genre'].value_counts(dropna=True).idxmax()\n",
        "df_GC['Genre'].fillna(GC_freq, inplace = True)\n",
        "\n",
        "\n",
        "df_3DS = df['Platform'] == '3DS'\n",
        "df_3DS = df[df_3DS]\n",
        "df_3DS['Year'] = df_3DS['Year'].fillna(df_3DS['Year'].mean())\n",
        "df_3DS['Year'] = df_3DS['Year'].astype(int)\n",
        "N3DS_freq = df_3DS['Genre'].value_counts(dropna=True).idxmax()\n",
        "df_3DS['Genre'].fillna(N3DS_freq, inplace = True)\n",
        "\n",
        "\n",
        "df_2600 = df['Platform'] == '2600'\n",
        "df_2600 = df[df_2600]\n",
        "df_2600['Year'] = df_2600['Year'].fillna(df_2600['Year'].mean())\n",
        "df_2600['Year'] = df_2600['Year'].astype(int)\n",
        "atari_freq = df_2600['Genre'].value_counts(dropna=True).idxmax()\n",
        "df_2600['Genre'].fillna(atari_freq, inplace = True)\n",
        "\n",
        "\n",
        "df_SCD = df['Platform'] == 'SCD'\n",
        "df_SCD = df[df_SCD]\n",
        "df_SCD['Year'] = df_SCD['Year'].fillna(df_SCD['Year'].mean())\n",
        "df_SCD['Year'] = df_SCD['Year'].astype(int)\n",
        "SCD_freq = df_SCD['Genre'].value_counts(dropna=True).idxmax()\n",
        "df_SCD['Genre'].fillna(SCD_freq, inplace = True)\n",
        "\n",
        "\n",
        "df_SAT = df['Platform'] == 'SAT'\n",
        "df_SAT = df[df_SAT]\n",
        "df_SAT['Year'] = df_SAT['Year'].fillna(df_SAT['Year'].mean())\n",
        "df_SAT['Year'] = df_SAT['Year'].astype(int)\n",
        "SAT_freq = df_SAT['Genre'].value_counts(dropna=True).idxmax()\n",
        "df_SAT['Genre'].fillna(SAT_freq, inplace = True)\n",
        "\n",
        "\n",
        "df_GB = df['Platform'] == 'GB'\n",
        "df_GB = df[df_GB]\n",
        "df_GB['Year'] = df_GB['Year'].fillna(df_GB['Year'].mean())\n",
        "df_GB['Year'] = df_GB['Year'].astype(int)\n",
        "GB_freq = df_GB['Genre'].value_counts(dropna=True).idxmax()\n",
        "df_GB['Genre'].fillna(GB_freq, inplace = True)\n",
        "\n",
        "\n",
        "df_NES = df['Platform'] == 'NES'\n",
        "df_NES = df[df_NES]\n",
        "df_NES['Year'] = df_NES['Year'].fillna(df_NES['Year'].mean())\n",
        "df_NES['Year'] = df_NES['Year'].astype(int)\n",
        "NES_freq = df_NES['Genre'].value_counts(dropna=True).idxmax()\n",
        "df_NES['Genre'].fillna(NES_freq, inplace = True)\n",
        "\n",
        "\n",
        "df_DC = df['Platform'] == 'DC'\n",
        "df_DC = df[df_DC]\n",
        "df_DC['Year'] = df_DC['Year'].fillna(df_DC['Year'].mean())\n",
        "df_DC['Year'] = df_DC['Year'].astype(int)\n",
        "DC_freq = df_DC['Genre'].value_counts(dropna=True).idxmax()\n",
        "df_DC['Genre'].fillna(DC_freq, inplace = True)\n",
        "\n",
        "\n",
        "df_N64 = df['Platform'] == 'N64'\n",
        "df_N64 = df[df_N64]\n",
        "df_N64['Year'] = df_N64['Year'].fillna(df_N64['Year'].mean())\n",
        "df_N64['Year'] = df_N64['Year'].astype(int)\n",
        "N64_freq = df_N64['Genre'].value_counts(dropna=True).idxmax()\n",
        "df_N64['Genre'].fillna(N64_freq, inplace = True)\n",
        "\n",
        "\n",
        "df_XOne = df['Platform'] == 'XOne'\n",
        "df_XOne = df[df_XOne]\n",
        "df_XOne['Year'] = df_XOne['Year'].fillna(df_XOne['Year'].mean())\n",
        "df_XOne['Year'] = df_XOne['Year'].astype(int)\n",
        "XOne_freq = df_XOne['Genre'].value_counts(dropna=True).idxmax()\n",
        "df_XOne['Genre'].fillna(XOne_freq, inplace = True)\n",
        "\n",
        "\n",
        "df_SNES = df['Platform'] == 'SNES'\n",
        "df_SNES = df[df_SNES]\n",
        "df_SNES['Year'] = df_SNES['Year'].fillna(df_SNES['Year'].mean())\n",
        "df_SNES['Year'] = df_SNES['Year'].astype(int)\n",
        "SNES_freq = df_SNES['Genre'].value_counts(dropna=True).idxmax()\n",
        "df_SNES['Genre'].fillna(SNES_freq, inplace = True)\n",
        "\n",
        "\n",
        "df_WiiU = df['Platform'] == 'WiiU'\n",
        "df_WiiU = df[df_WiiU]\n",
        "df_WiiU['Year'] = df_WiiU['Year'].fillna(df_WiiU['Year'].mean())\n",
        "df_WiiU['Year'] = df_WiiU['Year'].astype(int)\n",
        "WiiU_freq = df_WiiU['Genre'].value_counts(dropna=True).idxmax()\n",
        "df_WiiU['Genre'].fillna(WiiU_freq, inplace = True)\n",
        "\n",
        "\n",
        "df_PSV = df['Platform'] == 'PSV'\n",
        "df_PSV = df[df_PSV]\n",
        "df_PSV['Year'] = df_PSV['Year'].fillna(df_PSV['Year'].mean())\n",
        "df_PSV['Year'] = df_PSV['Year'].astype(int)\n",
        "PSV_freq = df_PSV['Genre'].value_counts(dropna=True).idxmax()\n",
        "df_PSV['Genre'].fillna(PSV_freq, inplace = True)\n",
        "\n",
        "\n",
        "df_GEN = df['Platform'] == 'GEN'\n",
        "df_GEN = df[df_GEN]\n",
        "df_GEN['Year'] = df_GEN['Year'].fillna(df_GEN['Year'].mean())\n",
        "df_GEN['Year'] = df_GEN['Year'].astype(int)\n",
        "GEN_freq = df_GEN['Genre'].value_counts(dropna=True).idxmax()\n",
        "df_GEN['Genre'].fillna(GEN_freq, inplace = True)\n",
        "\n",
        "\n",
        "df_TG16 = df['Platform'] == 'TG16'\n",
        "df_TG16 = df[df_TG16]\n",
        "df_TG16['Year'] = df_TG16['Year'].fillna(df_TG16['Year'].mean())\n",
        "df_TG16['Year'] = df_TG16['Year'].astype(int)\n",
        "TG16_freq = df_TG16['Genre'].value_counts(dropna=True).idxmax()\n",
        "df_TG16['Genre'].fillna(TG16_freq, inplace = True)\n",
        "\n",
        "\n",
        "df_WS = df['Platform'] == 'WS'\n",
        "df_WS = df[df_WS]\n",
        "df_WS['Year'] = df_WS['Year'].fillna(df_WS['Year'].mean())\n",
        "df_WS['Year'] = df_WS['Year'].astype(int)\n",
        "WS_freq = df_WS['Genre'].value_counts(dropna=True).idxmax()\n",
        "df_WS['Genre'].fillna(WS_freq, inplace = True)\n",
        "\n",
        "\n",
        "df_3DO = df['Platform'] == '3DO'\n",
        "df_3DO = df[df_3DO]\n",
        "df_3DO['Year'] = df_3DO['Year'].fillna(df_3DO['Year'].mean())\n",
        "df_3DO['Year'] = df_3DO['Year'].astype(int)\n",
        "NWC_freq = df_3DO['Genre'].value_counts(dropna=True).idxmax()\n",
        "df_3DO['Genre'].fillna(NWC_freq, inplace = True)\n",
        "\n",
        "\n",
        "df_NG = df['Platform'] == 'NG'\n",
        "df_NG = df[df_NG]\n",
        "df_NG['Year'] = df_NG['Year'].fillna(df_NG['Year'].mean())\n",
        "df_NG['Year'] = df_NG['Year'].astype(int)\n",
        "NG_freq = df_NG['Genre'].value_counts(dropna=True).idxmax()\n",
        "df_NG['Genre'].fillna(NG_freq, inplace = True)\n",
        "\n",
        "\n",
        "df_GG = df['Platform'] == 'GG'\n",
        "df_GG = df[df_GG]\n",
        "df_GG['Year'] = df_GG['Year'].fillna(df_GG['Year'].mean())\n",
        "df_GG['Year'] = df_GG['Year'].astype(int)\n",
        "GG_freq = df_GG['Genre'].value_counts(dropna=True).idxmax()\n",
        "df_GG['Genre'].fillna(GG_freq, inplace = True)\n",
        "\n",
        "\n",
        "df_PCFX = df['Platform'] == 'PCFX'\n",
        "df_PCFX = df[df_PCFX]\n",
        "df_PCFX['Year'] = df_PCFX['Year'].fillna(df_PCFX['Year'].mean())\n",
        "df_PCFX['Year'] = df_PCFX['Year'].astype(int)\n",
        "PCFX_freq = df_PCFX['Genre'].value_counts(dropna=True).idxmax()\n",
        "df_PCFX['Genre'].fillna(PCFX_freq, inplace = True)\n"
      ],
      "execution_count": null,
      "outputs": []
    },
    {
      "cell_type": "markdown",
      "metadata": {
        "id": "F_U3Pe3Q8K0j"
      },
      "source": [
        "\n"
      ]
    },
    {
      "cell_type": "code",
      "metadata": {
        "id": "tDcLWH8F4fvR"
      },
      "source": [
        "df_a = pd.concat([df_DS, df_Wii, df_PSP, df_PS3, df_PC, df_PS, df_GBA, df_PS4, df_PS2, df_XB,\n",
        "       df_X360, df_GC, df_3DS, df_2600, df_SAT, df_GB, df_NES, df_DC, df_N64,\n",
        "       df_XOne, df_SNES, df_WiiU, df_PSV, df_GEN, df_SCD, df_WS, df_NG, df_TG16,\n",
        "       df_3DO, df_GG, df_PCFX])\n",
        "\n",
        "\n",
        "def yearchange(x):\n",
        "  if -1 < x < 22 : \n",
        "    return x+2000\n",
        "  elif 22< x <100 :\n",
        "    return x+1900    \n",
        "  else :\n",
        "    return x\n"
      ],
      "execution_count": 3,
      "outputs": []
    },
    {
      "cell_type": "code",
      "metadata": {
        "id": "AkfsFst4FcbL"
      },
      "source": [
        "df_a['Year'] = df_a['Year'].apply(yearchange)"
      ],
      "execution_count": 4,
      "outputs": []
    },
    {
      "cell_type": "code",
      "metadata": {
        "id": "40qepXuYFdGh"
      },
      "source": [
        "df_a['NA_Sales'] = df_a['NA_Sales'].map(lambda x: x.replace('M',''))\n",
        "df_a['JP_Sales'] = df_a['JP_Sales'].map(lambda x: x.replace('M',''))\n",
        "df_a['EU_Sales'] = df_a['EU_Sales'].map(lambda x: x.replace('M',''))\n",
        "df_a['Other_Sales'] = df_a['Other_Sales'].map(lambda x: x.replace('M',''))"
      ],
      "execution_count": 5,
      "outputs": []
    },
    {
      "cell_type": "code",
      "metadata": {
        "id": "KFUuip46QHTB"
      },
      "source": [
        "df_a['NA_Sales'] = df_a['NA_Sales'].map(lambda x: x.replace('K','0'))\n",
        "df_a['JP_Sales'] = df_a['JP_Sales'].map(lambda x: x.replace('K','0'))\n",
        "df_a['EU_Sales'] = df_a['EU_Sales'].map(lambda x: x.replace('K','0'))\n",
        "df_a['Other_Sales'] = df_a['Other_Sales'].map(lambda x: x.replace('K','0'))"
      ],
      "execution_count": 6,
      "outputs": []
    },
    {
      "cell_type": "code",
      "metadata": {
        "id": "a818w7FSXqln"
      },
      "source": [
        "def tofloat (x):\n",
        "  return float(x)\n",
        "\n",
        "def kchange (x) :\n",
        "  if x > 50:\n",
        "    return x/10000\n",
        "  else :\n",
        "    return x  "
      ],
      "execution_count": 8,
      "outputs": []
    },
    {
      "cell_type": "code",
      "metadata": {
        "id": "XRPSLgaAX94m"
      },
      "source": [
        "df_a['NA_Sales'] = df_a['NA_Sales'].apply(tofloat)\n",
        "df_a['JP_Sales'] = df_a['JP_Sales'].apply(tofloat)\n",
        "df_a['EU_Sales'] = df_a['EU_Sales'].apply(tofloat)\n",
        "df_a['Other_Sales'] = df_a['Other_Sales'].apply(tofloat)"
      ],
      "execution_count": 9,
      "outputs": []
    },
    {
      "cell_type": "code",
      "metadata": {
        "id": "vAg0Prv2ZV1_"
      },
      "source": [
        "df_a['NA_Sales'] = df_a['NA_Sales'].apply(kchange)\n",
        "df_a['JP_Sales'] = df_a['JP_Sales'].apply(kchange)\n",
        "df_a['EU_Sales'] = df_a['EU_Sales'].apply(kchange)\n",
        "df_a['Other_Sales'] = df_a['Other_Sales'].apply(kchange)"
      ],
      "execution_count": 10,
      "outputs": []
    },
    {
      "cell_type": "code",
      "metadata": {
        "id": "4Libm9JTOW2b"
      },
      "source": [
        "df_a.sort_values(by='NA_Sales',ascending=False).head(60)"
      ],
      "execution_count": null,
      "outputs": []
    }
  ]
}