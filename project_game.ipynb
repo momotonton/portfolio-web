{
  "nbformat": 4,
  "nbformat_minor": 0,
  "metadata": {
    "colab": {
      "name": "Project 1.ipynb",
      "provenance": [],
      "collapsed_sections": [],
      "toc_visible": true,
      "authorship_tag": "ABX9TyPk9Vx4flRDl6SuIo5yTdQz",
      "include_colab_link": true
    },
    "kernelspec": {
      "name": "python3",
      "display_name": "Python 3"
    },
    "language_info": {
      "name": "python"
    }
  },
  "cells": [
    {
      "cell_type": "markdown",
      "metadata": {
        "id": "view-in-github",
        "colab_type": "text"
      },
      "source": [
        "<a href=\"https://colab.research.google.com/github/momotonton/portfolio-web/blob/main/project_game.ipynb\" target=\"_parent\"><img src=\"https://colab.research.google.com/assets/colab-badge.svg\" alt=\"Open In Colab\"/></a>"
      ]
    },
    {
      "cell_type": "code",
      "metadata": {
        "id": "njh2VxuzrPd6"
      },
      "source": [
        "import pandas as pd\n",
        "vgames2 = pd.read_csv('vgames2.csv')\n",
        "df = vgames2.iloc[:,1:] # index remove\n",
        "def toInt(float):\n",
        "  return int(float)\n",
        "df_notnull = df[df['Year'].notnull()]\n",
        "df['Year'] = df_notnull['Year'].round(0).astype(int)\n",
        "\n"
      ],
      "execution_count": 109,
      "outputs": []
    },
    {
      "cell_type": "code",
      "metadata": {
        "colab": {
          "base_uri": "https://localhost:8080/"
        },
        "id": "ywm_oEr0Rn8o",
        "outputId": "7ece0644-97b0-4688-8f70-bca41341cec8"
      },
      "source": [
        "df['Platform'].unique()"
      ],
      "execution_count": 108,
      "outputs": [
        {
          "output_type": "execute_result",
          "data": {
            "text/plain": [
              "array(['DS', 'Wii', 'PSP', 'PS3', 'PC', 'PS', 'GBA', 'PS4', 'PS2', 'XB',\n",
              "       'X360', 'GC', '3DS', '2600', 'SAT', 'GB', 'NES', 'DC', 'N64',\n",
              "       'XOne', 'SNES', 'WiiU', 'PSV', 'GEN', 'SCD', 'WS', 'NG', 'TG16',\n",
              "       '3DO', 'GG', 'PCFX'], dtype=object)"
            ]
          },
          "metadata": {
            "tags": []
          },
          "execution_count": 108
        }
      ]
    },
    {
      "cell_type": "code",
      "metadata": {
        "colab": {
          "base_uri": "https://localhost:8080/"
        },
        "id": "9kIBcxOtVBfr",
        "outputId": "19df8579-39f9-4776-b4f2-31c366a32d87"
      },
      "source": [
        "array(['DS', 'Wii', 'PSP', 'PS3', 'PC', 'PS', 'GBA', 'PS4', 'PS2', 'XB',\n",
        "       'X360', 'GC', '3DS', '2600', 'SAT', 'GB', 'NES', 'DC', 'N64',\n",
        "       'XOne', 'SNES', 'WiiU', 'PSV', 'GEN', 'SCD', 'WS', 'NG', 'TG16',\n",
        "       '3DO', 'GG', 'PCFX'], dtype=object)\n",
        "\n",
        "df_DS = df['Platform'] == 'DS'\n",
        "df_DS = df[df_DS]\n",
        "df_DS['Year'] = df_DS['Year'].fillna(df_DS['Year'].mean())\n",
        "\n",
        "df_Wii = df['Platform'] == 'Wii'\n",
        "df_Wii = df[df_Wii]\n",
        "df_Wii['Year'] = df_Wii['Year'].fillna(df_Wii['Year'].mean())\n",
        "\n",
        "df_PSP = df['Platform'] == 'PSP'\n",
        "df_PSP = df[df_PSP]\n",
        "df_PSP['Year'] = df_PSP['Year'].fillna(df_PSP['Year'].mean())\n",
        "\n",
        "df_PS2 = df['Platform'] == 'PS2'\n",
        "df_PS2 = df[df_PS2]\n",
        "df_PS2['Year'] = df_PS2['Year'].fillna(df_PS2['Year'].mean())\n",
        "\n",
        "df_PS3 = df['Platform'] == 'PS3'\n",
        "df_PS3 = df[df_PS3]\n",
        "df_PS3['Year'] = df_PS3['Year'].fillna(df_PS3['Year'].mean())\n",
        "\n",
        "df_PC = df['Platform'] == 'PC'\n",
        "df_PC = df[df_PC]\n",
        "df_PC['Year'] = df_PC['Year'].fillna(df_PC['Year'].mean())\n",
        "\n",
        "df_PS = df['Platform'] == 'PS'\n",
        "df_PS = df[df_PS]\n",
        "df_PS['Year'] = df_PS['Year'].fillna(df_PS['Year'].mean())\n",
        "\n",
        "\n",
        "df_X360 = df['Platform'] == 'X360'\n",
        "df_X360 = df[df_X360]\n",
        "df_X360['Year'] = df_X360['Year'].fillna(df_X360['Year'].mean())\n",
        "\n",
        "\n",
        "df_PS = df['Platform'] == 'PS'\n",
        "df_PS = df[df_PS]\n",
        "df_PS['Year'] = df_PS['Year'].fillna(df_PS['Year'].mean())\n",
        "\n",
        "df_GBA = df['Platform'] == 'GBA'\n",
        "df_GBA = df[df_GBA]\n",
        "df_GBA['Year'] = df_GBA['Year'].fillna(df_GBA['Year'].mean())\n",
        "\n",
        "df_PS4 = df['Platform'] == 'PS4'\n",
        "df_PS4 = df[df_PS4]\n",
        "df_PS4['Year'] = df_PS4['Year'].fillna(df_PS4['Year'].mean())\n",
        "\n",
        "df_XB = df['Platform'] == 'XB'\n",
        "df_XB = df[df_XB]\n",
        "df_XB['Year'] = df_XB['Year'].fillna(df_XB['Year'].mean())\n",
        "\n",
        "df_GC = df['Platform'] == 'GC'\n",
        "df_GC = df[df_GC]\n",
        "df_GC['Year'] = df_GC['Year'].fillna(df_GC['Year'].mean())\n",
        "\n",
        "df_3DS = df['Platform'] == '3DS'\n",
        "df_3DS = df[df_3DS]\n",
        "df_3DS['Year'] = df_3DS['Year'].fillna(df_3DS['Year'].mean())\n",
        "\n",
        "df_2600 = df['Platform'] == '2600'\n",
        "df_2600 = df[df_2600]\n",
        "df_2600['Year'] = df_2600['Year'].fillna(df_2600['Year'].mean())\n",
        "\n",
        "df_SCD = df['Platform'] == 'SCD'\n",
        "df_SCD = df[df_SCD]\n",
        "df_SCD['Year'] = df_SCD['Year'].fillna(df_SCD['Year'].mean())\n",
        "\n",
        "df_SAT = df['Platform'] == 'SAT'\n",
        "df_SAT = df[df_SAT]\n",
        "df_SAT['Year'] = df_SAT['Year'].fillna(df_SAT['Year'].mean())\n",
        "\n",
        "df_GB = df['Platform'] == 'GB'\n",
        "df_GB = df[df_GB]\n",
        "df_GB['Year'] = df_GB['Year'].fillna(df_GB['Year'].mean())\n",
        "\n",
        "df_NES = df['Platform'] == 'NES'\n",
        "df_NES = df[df_NES]\n",
        "df_NES['Year'] = df_NES['Year'].fillna(df_NES['Year'].mean())\n",
        "\n",
        "df_DC = df['Platform'] == 'DC'\n",
        "df_DC = df[df_DC]\n",
        "df_DC['Year'] = df_DC['Year'].fillna(df_DC['Year'].mean())\n",
        "\n",
        "df_N64 = df['Platform'] == 'N64'\n",
        "df_N64 = df[df_N64]\n",
        "df_N64['Year'] = df_N64['Year'].fillna(df_N64['Year'].mean())\n",
        "\n",
        "df_XOne = df['Platform'] == 'XOne'\n",
        "df_XOne = df[df_XOne]\n",
        "df_XOne['Year'] = df_XOne['Year'].fillna(df_XOne['Year'].mean())\n",
        "\n",
        "df_SNES = df['Platform'] == 'SNES'\n",
        "df_SNES = df[df_SNES]\n",
        "df_SNES['Year'] = df_SNES['Year'].fillna(df_SNES['Year'].mean())\n",
        "\n",
        "df_WiiU = df['Platform'] == 'WiiU'\n",
        "df_WiiU = df[df_WiiU]\n",
        "df_WiiU['Year'] = df_WiiU['Year'].fillna(df_WiiU['Year'].mean())\n",
        "\n",
        "df_PSV = df['Platform'] == 'PSV'\n",
        "df_PSV = df[df_PSV]\n",
        "df_PSV['Year'] = df_PSV['Year'].fillna(df_PSV['Year'].mean())\n",
        "\n",
        "df_GEN = df['Platform'] == 'GEN'\n",
        "df_GEN = df[df_GEN]\n",
        "df_GEN['Year'] = df_GEN['Year'].fillna(df_GEN['Year'].mean())\n",
        "\n",
        "df_TG16 = df['Platform'] == 'TG16'\n",
        "df_TG16 = df[df_TG16]\n",
        "df_TG16['Year'] = df_TG16['Year'].fillna(df_TG16['Year'].mean())\n",
        "\n",
        "df_WS = df['Platform'] == 'WS'\n",
        "df_WS = df[df_WS]\n",
        "df_WS['Year'] = df_WS['Year'].fillna(df_WS['Year'].mean())\n",
        "\n",
        "df_3DO = df['Platform'] == '3DO'\n",
        "df_3DO = df[df_3DO]\n",
        "df_3DO['Year'] = df_3DO['Year'].fillna(df_3DO['Year'].mean())\n",
        "\n",
        "df_NG = df['Platform'] == 'NG'\n",
        "df_NG = df[df_NG]\n",
        "df_NG['Year'] = df_NG['Year'].fillna(df_NG['Year'].mean())\n",
        "\n",
        "df_GG = df['Platform'] == 'GG'\n",
        "df_GG = df[df_GG]\n",
        "df_GG['Year'] = df_GG['Year'].fillna(df_GG['Year'].mean())\n",
        "\n",
        "df_PCFX = df['Platform'] == 'PCFX'\n",
        "df_PCFX = df[df_PCFX]\n",
        "df_PCFX['Year'] = df_PCFX['Year'].fillna(df_PCFX['Year'].mean())\n",
        "\n"
      ],
      "execution_count": 120,
      "outputs": [
        {
          "output_type": "stream",
          "text": [
            "/usr/local/lib/python3.7/dist-packages/ipykernel_launcher.py:3: SettingWithCopyWarning: \n",
            "A value is trying to be set on a copy of a slice from a DataFrame.\n",
            "Try using .loc[row_indexer,col_indexer] = value instead\n",
            "\n",
            "See the caveats in the documentation: https://pandas.pydata.org/pandas-docs/stable/user_guide/indexing.html#returning-a-view-versus-a-copy\n",
            "  This is separate from the ipykernel package so we can avoid doing imports until\n",
            "/usr/local/lib/python3.7/dist-packages/ipykernel_launcher.py:7: SettingWithCopyWarning: \n",
            "A value is trying to be set on a copy of a slice from a DataFrame.\n",
            "Try using .loc[row_indexer,col_indexer] = value instead\n",
            "\n",
            "See the caveats in the documentation: https://pandas.pydata.org/pandas-docs/stable/user_guide/indexing.html#returning-a-view-versus-a-copy\n",
            "  import sys\n",
            "/usr/local/lib/python3.7/dist-packages/ipykernel_launcher.py:11: SettingWithCopyWarning: \n",
            "A value is trying to be set on a copy of a slice from a DataFrame.\n",
            "Try using .loc[row_indexer,col_indexer] = value instead\n",
            "\n",
            "See the caveats in the documentation: https://pandas.pydata.org/pandas-docs/stable/user_guide/indexing.html#returning-a-view-versus-a-copy\n",
            "  # This is added back by InteractiveShellApp.init_path()\n",
            "/usr/local/lib/python3.7/dist-packages/ipykernel_launcher.py:15: SettingWithCopyWarning: \n",
            "A value is trying to be set on a copy of a slice from a DataFrame.\n",
            "Try using .loc[row_indexer,col_indexer] = value instead\n",
            "\n",
            "See the caveats in the documentation: https://pandas.pydata.org/pandas-docs/stable/user_guide/indexing.html#returning-a-view-versus-a-copy\n",
            "  from ipykernel import kernelapp as app\n",
            "/usr/local/lib/python3.7/dist-packages/ipykernel_launcher.py:19: SettingWithCopyWarning: \n",
            "A value is trying to be set on a copy of a slice from a DataFrame.\n",
            "Try using .loc[row_indexer,col_indexer] = value instead\n",
            "\n",
            "See the caveats in the documentation: https://pandas.pydata.org/pandas-docs/stable/user_guide/indexing.html#returning-a-view-versus-a-copy\n",
            "/usr/local/lib/python3.7/dist-packages/ipykernel_launcher.py:23: SettingWithCopyWarning: \n",
            "A value is trying to be set on a copy of a slice from a DataFrame.\n",
            "Try using .loc[row_indexer,col_indexer] = value instead\n",
            "\n",
            "See the caveats in the documentation: https://pandas.pydata.org/pandas-docs/stable/user_guide/indexing.html#returning-a-view-versus-a-copy\n",
            "/usr/local/lib/python3.7/dist-packages/ipykernel_launcher.py:27: SettingWithCopyWarning: \n",
            "A value is trying to be set on a copy of a slice from a DataFrame.\n",
            "Try using .loc[row_indexer,col_indexer] = value instead\n",
            "\n",
            "See the caveats in the documentation: https://pandas.pydata.org/pandas-docs/stable/user_guide/indexing.html#returning-a-view-versus-a-copy\n",
            "/usr/local/lib/python3.7/dist-packages/ipykernel_launcher.py:32: SettingWithCopyWarning: \n",
            "A value is trying to be set on a copy of a slice from a DataFrame.\n",
            "Try using .loc[row_indexer,col_indexer] = value instead\n",
            "\n",
            "See the caveats in the documentation: https://pandas.pydata.org/pandas-docs/stable/user_guide/indexing.html#returning-a-view-versus-a-copy\n",
            "/usr/local/lib/python3.7/dist-packages/ipykernel_launcher.py:36: SettingWithCopyWarning: \n",
            "A value is trying to be set on a copy of a slice from a DataFrame.\n",
            "Try using .loc[row_indexer,col_indexer] = value instead\n",
            "\n",
            "See the caveats in the documentation: https://pandas.pydata.org/pandas-docs/stable/user_guide/indexing.html#returning-a-view-versus-a-copy\n",
            "/usr/local/lib/python3.7/dist-packages/ipykernel_launcher.py:40: SettingWithCopyWarning: \n",
            "A value is trying to be set on a copy of a slice from a DataFrame.\n",
            "Try using .loc[row_indexer,col_indexer] = value instead\n",
            "\n",
            "See the caveats in the documentation: https://pandas.pydata.org/pandas-docs/stable/user_guide/indexing.html#returning-a-view-versus-a-copy\n",
            "/usr/local/lib/python3.7/dist-packages/ipykernel_launcher.py:44: SettingWithCopyWarning: \n",
            "A value is trying to be set on a copy of a slice from a DataFrame.\n",
            "Try using .loc[row_indexer,col_indexer] = value instead\n",
            "\n",
            "See the caveats in the documentation: https://pandas.pydata.org/pandas-docs/stable/user_guide/indexing.html#returning-a-view-versus-a-copy\n",
            "/usr/local/lib/python3.7/dist-packages/ipykernel_launcher.py:48: SettingWithCopyWarning: \n",
            "A value is trying to be set on a copy of a slice from a DataFrame.\n",
            "Try using .loc[row_indexer,col_indexer] = value instead\n",
            "\n",
            "See the caveats in the documentation: https://pandas.pydata.org/pandas-docs/stable/user_guide/indexing.html#returning-a-view-versus-a-copy\n",
            "/usr/local/lib/python3.7/dist-packages/ipykernel_launcher.py:52: SettingWithCopyWarning: \n",
            "A value is trying to be set on a copy of a slice from a DataFrame.\n",
            "Try using .loc[row_indexer,col_indexer] = value instead\n",
            "\n",
            "See the caveats in the documentation: https://pandas.pydata.org/pandas-docs/stable/user_guide/indexing.html#returning-a-view-versus-a-copy\n",
            "/usr/local/lib/python3.7/dist-packages/ipykernel_launcher.py:56: SettingWithCopyWarning: \n",
            "A value is trying to be set on a copy of a slice from a DataFrame.\n",
            "Try using .loc[row_indexer,col_indexer] = value instead\n",
            "\n",
            "See the caveats in the documentation: https://pandas.pydata.org/pandas-docs/stable/user_guide/indexing.html#returning-a-view-versus-a-copy\n",
            "/usr/local/lib/python3.7/dist-packages/ipykernel_launcher.py:60: SettingWithCopyWarning: \n",
            "A value is trying to be set on a copy of a slice from a DataFrame.\n",
            "Try using .loc[row_indexer,col_indexer] = value instead\n",
            "\n",
            "See the caveats in the documentation: https://pandas.pydata.org/pandas-docs/stable/user_guide/indexing.html#returning-a-view-versus-a-copy\n",
            "/usr/local/lib/python3.7/dist-packages/ipykernel_launcher.py:64: SettingWithCopyWarning: \n",
            "A value is trying to be set on a copy of a slice from a DataFrame.\n",
            "Try using .loc[row_indexer,col_indexer] = value instead\n",
            "\n",
            "See the caveats in the documentation: https://pandas.pydata.org/pandas-docs/stable/user_guide/indexing.html#returning-a-view-versus-a-copy\n",
            "/usr/local/lib/python3.7/dist-packages/ipykernel_launcher.py:68: SettingWithCopyWarning: \n",
            "A value is trying to be set on a copy of a slice from a DataFrame.\n",
            "Try using .loc[row_indexer,col_indexer] = value instead\n",
            "\n",
            "See the caveats in the documentation: https://pandas.pydata.org/pandas-docs/stable/user_guide/indexing.html#returning-a-view-versus-a-copy\n",
            "/usr/local/lib/python3.7/dist-packages/ipykernel_launcher.py:72: SettingWithCopyWarning: \n",
            "A value is trying to be set on a copy of a slice from a DataFrame.\n",
            "Try using .loc[row_indexer,col_indexer] = value instead\n",
            "\n",
            "See the caveats in the documentation: https://pandas.pydata.org/pandas-docs/stable/user_guide/indexing.html#returning-a-view-versus-a-copy\n",
            "/usr/local/lib/python3.7/dist-packages/ipykernel_launcher.py:76: SettingWithCopyWarning: \n",
            "A value is trying to be set on a copy of a slice from a DataFrame.\n",
            "Try using .loc[row_indexer,col_indexer] = value instead\n",
            "\n",
            "See the caveats in the documentation: https://pandas.pydata.org/pandas-docs/stable/user_guide/indexing.html#returning-a-view-versus-a-copy\n",
            "/usr/local/lib/python3.7/dist-packages/ipykernel_launcher.py:80: SettingWithCopyWarning: \n",
            "A value is trying to be set on a copy of a slice from a DataFrame.\n",
            "Try using .loc[row_indexer,col_indexer] = value instead\n",
            "\n",
            "See the caveats in the documentation: https://pandas.pydata.org/pandas-docs/stable/user_guide/indexing.html#returning-a-view-versus-a-copy\n",
            "/usr/local/lib/python3.7/dist-packages/ipykernel_launcher.py:84: SettingWithCopyWarning: \n",
            "A value is trying to be set on a copy of a slice from a DataFrame.\n",
            "Try using .loc[row_indexer,col_indexer] = value instead\n",
            "\n",
            "See the caveats in the documentation: https://pandas.pydata.org/pandas-docs/stable/user_guide/indexing.html#returning-a-view-versus-a-copy\n",
            "/usr/local/lib/python3.7/dist-packages/ipykernel_launcher.py:88: SettingWithCopyWarning: \n",
            "A value is trying to be set on a copy of a slice from a DataFrame.\n",
            "Try using .loc[row_indexer,col_indexer] = value instead\n",
            "\n",
            "See the caveats in the documentation: https://pandas.pydata.org/pandas-docs/stable/user_guide/indexing.html#returning-a-view-versus-a-copy\n",
            "/usr/local/lib/python3.7/dist-packages/ipykernel_launcher.py:92: SettingWithCopyWarning: \n",
            "A value is trying to be set on a copy of a slice from a DataFrame.\n",
            "Try using .loc[row_indexer,col_indexer] = value instead\n",
            "\n",
            "See the caveats in the documentation: https://pandas.pydata.org/pandas-docs/stable/user_guide/indexing.html#returning-a-view-versus-a-copy\n",
            "/usr/local/lib/python3.7/dist-packages/ipykernel_launcher.py:96: SettingWithCopyWarning: \n",
            "A value is trying to be set on a copy of a slice from a DataFrame.\n",
            "Try using .loc[row_indexer,col_indexer] = value instead\n",
            "\n",
            "See the caveats in the documentation: https://pandas.pydata.org/pandas-docs/stable/user_guide/indexing.html#returning-a-view-versus-a-copy\n",
            "/usr/local/lib/python3.7/dist-packages/ipykernel_launcher.py:100: SettingWithCopyWarning: \n",
            "A value is trying to be set on a copy of a slice from a DataFrame.\n",
            "Try using .loc[row_indexer,col_indexer] = value instead\n",
            "\n",
            "See the caveats in the documentation: https://pandas.pydata.org/pandas-docs/stable/user_guide/indexing.html#returning-a-view-versus-a-copy\n",
            "/usr/local/lib/python3.7/dist-packages/ipykernel_launcher.py:104: SettingWithCopyWarning: \n",
            "A value is trying to be set on a copy of a slice from a DataFrame.\n",
            "Try using .loc[row_indexer,col_indexer] = value instead\n",
            "\n",
            "See the caveats in the documentation: https://pandas.pydata.org/pandas-docs/stable/user_guide/indexing.html#returning-a-view-versus-a-copy\n",
            "/usr/local/lib/python3.7/dist-packages/ipykernel_launcher.py:108: SettingWithCopyWarning: \n",
            "A value is trying to be set on a copy of a slice from a DataFrame.\n",
            "Try using .loc[row_indexer,col_indexer] = value instead\n",
            "\n",
            "See the caveats in the documentation: https://pandas.pydata.org/pandas-docs/stable/user_guide/indexing.html#returning-a-view-versus-a-copy\n",
            "/usr/local/lib/python3.7/dist-packages/ipykernel_launcher.py:112: SettingWithCopyWarning: \n",
            "A value is trying to be set on a copy of a slice from a DataFrame.\n",
            "Try using .loc[row_indexer,col_indexer] = value instead\n",
            "\n",
            "See the caveats in the documentation: https://pandas.pydata.org/pandas-docs/stable/user_guide/indexing.html#returning-a-view-versus-a-copy\n",
            "/usr/local/lib/python3.7/dist-packages/ipykernel_launcher.py:116: SettingWithCopyWarning: \n",
            "A value is trying to be set on a copy of a slice from a DataFrame.\n",
            "Try using .loc[row_indexer,col_indexer] = value instead\n",
            "\n",
            "See the caveats in the documentation: https://pandas.pydata.org/pandas-docs/stable/user_guide/indexing.html#returning-a-view-versus-a-copy\n",
            "/usr/local/lib/python3.7/dist-packages/ipykernel_launcher.py:120: SettingWithCopyWarning: \n",
            "A value is trying to be set on a copy of a slice from a DataFrame.\n",
            "Try using .loc[row_indexer,col_indexer] = value instead\n",
            "\n",
            "See the caveats in the documentation: https://pandas.pydata.org/pandas-docs/stable/user_guide/indexing.html#returning-a-view-versus-a-copy\n",
            "/usr/local/lib/python3.7/dist-packages/ipykernel_launcher.py:124: SettingWithCopyWarning: \n",
            "A value is trying to be set on a copy of a slice from a DataFrame.\n",
            "Try using .loc[row_indexer,col_indexer] = value instead\n",
            "\n",
            "See the caveats in the documentation: https://pandas.pydata.org/pandas-docs/stable/user_guide/indexing.html#returning-a-view-versus-a-copy\n"
          ],
          "name": "stderr"
        }
      ]
    },
    {
      "cell_type": "code",
      "metadata": {
        "id": "PbhmOUVWVPOU"
      },
      "source": [
        ""
      ],
      "execution_count": null,
      "outputs": []
    },
    {
      "cell_type": "code",
      "metadata": {
        "id": "3rR67iPxVPWY"
      },
      "source": [
        ""
      ],
      "execution_count": null,
      "outputs": []
    },
    {
      "cell_type": "code",
      "metadata": {
        "id": "QBbunbRAVPdt"
      },
      "source": [
        ""
      ],
      "execution_count": null,
      "outputs": []
    },
    {
      "cell_type": "code",
      "metadata": {
        "colab": {
          "base_uri": "https://localhost:8080/"
        },
        "id": "oqbpK3aK2GGI",
        "outputId": "e20cbc1d-94f8-49e9-9a43-cac3a9219233"
      },
      "source": [
        "df_X360['Genre'].unique()"
      ],
      "execution_count": 81,
      "outputs": [
        {
          "output_type": "execute_result",
          "data": {
            "text/plain": [
              "array(['Sports', 'Misc', 'Shooter', 'Racing', 'Role-Playing', 'Strategy',\n",
              "       'Action', 'Adventure', 'Fighting', 'Platform', 'Simulation',\n",
              "       'Puzzle', nan], dtype=object)"
            ]
          },
          "metadata": {
            "tags": []
          },
          "execution_count": 81
        }
      ]
    }
  ]
}